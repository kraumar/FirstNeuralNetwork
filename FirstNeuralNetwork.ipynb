{
  "nbformat": 4,
  "nbformat_minor": 0,
  "metadata": {
    "colab": {
      "name": "FirstNeuralNetwork.ipynb",
      "provenance": [],
      "collapsed_sections": []
    },
    "kernelspec": {
      "name": "python3",
      "display_name": "Python 3"
    }
  },
  "cells": [
    {
      "cell_type": "code",
      "metadata": {
        "id": "n8c9t1-O7W__",
        "colab_type": "code",
        "colab": {}
      },
      "source": [
        "import keras\n",
        "import cv2\n",
        "import numpy as np\n",
        "import matplotlib.pyplot as plt"
      ],
      "execution_count": 0,
      "outputs": []
    },
    {
      "cell_type": "code",
      "metadata": {
        "id": "NY134h_x7dPZ",
        "colab_type": "code",
        "colab": {}
      },
      "source": [
        "## [deskew]\n",
        "SZ=28\n",
        "affine_flags = cv2.WARP_INVERSE_MAP|cv2.INTER_LINEAR\n",
        "\n",
        "def deskew(img):\n",
        "    m = cv2.moments(img)\n",
        "    if abs(m['mu02']) < 1e-2:\n",
        "        return img.copy()\n",
        "    skew = m['mu11']/m['mu02']\n",
        "    M = np.float32([[1, skew, -0.5*SZ*skew], [0, 1, 0]])\n",
        "    img = cv2.warpAffine(img,M,(SZ, SZ),flags=affine_flags)\n",
        "    return img\n",
        "## [deskew]\n",
        "\n",
        "def showOpencvImage(image, isGray=False):\n",
        "    fig = plt.figure(figsize=(6, 6))\n",
        "    plt.imshow(image, cmap = 'gray')\n",
        "    plt.show()"
      ],
      "execution_count": 0,
      "outputs": []
    },
    {
      "cell_type": "code",
      "metadata": {
        "id": "Cx6ZC3077fMv",
        "colab_type": "code",
        "outputId": "251446f2-1b2b-48a3-e31f-e106b02bce80",
        "colab": {
          "base_uri": "https://localhost:8080/",
          "height": 496
        }
      },
      "source": [
        "from keras.datasets import mnist\n",
        "\n",
        "(train_images, train_labels), (test_images, test_labels) = mnist.load_data()\n",
        "\n",
        "print(train_images.shape)\n",
        "\n",
        "print(np.max(train_images[1]))\n",
        "print(np.min(train_images[1]))\n",
        "\n",
        "showOpencvImage(train_images[1])\n",
        "\n",
        "print(len(train_labels))\n",
        "\n",
        "print(train_labels)\n",
        "\n",
        "print(test_images.shape)\n",
        "\n",
        "print(test_labels)"
      ],
      "execution_count": 23,
      "outputs": [
        {
          "output_type": "stream",
          "text": [
            "(60000, 28, 28)\n",
            "255\n",
            "0\n"
          ],
          "name": "stdout"
        },
        {
          "output_type": "display_data",
          "data": {
            "image/png": "[encoded data removed]",
            "text/plain": [
              "<Figure size 432x432 with 1 Axes>"
            ]
          },
          "metadata": {
            "tags": []
          }
        },
        {
          "output_type": "stream",
          "text": [
            "60000\n",
            "[5 0 4 ... 5 6 8]\n",
            "(10000, 28, 28)\n",
            "[7 2 1 ... 4 5 6]\n"
          ],
          "name": "stdout"
        }
      ]
    },
    {
      "cell_type": "code",
      "metadata": {
        "id": "pMfixJv_7jQD",
        "colab_type": "code",
        "outputId": "68d049fc-2c1b-4535-fd84-c437ff14abec",
        "colab": {
          "base_uri": "https://localhost:8080/",
          "height": 800
        }
      },
      "source": [
        "im_list = [train_images[i] for i in range(0,train_images.shape[0])] + [test_images[i] for i in range(0,test_images.shape[0])]\n",
        "\n",
        "#train/test split with rotation conversion\n",
        "train_deskewed = [deskew(im) for im in im_list[0:train_images.shape[0]]]\n",
        "test_deskewed = [deskew(im) for im in im_list[train_images.shape[0]:]]\n",
        "train_deskewed = np.asanyarray(train_deskewed)\n",
        "test_deskewed = np.asanyarray(test_deskewed)\n",
        "im_list2 = [train_deskewed[i] for i in range(0,train_deskewed.shape[0])] + [test_deskewed[i] for i in range(0,test_deskewed.shape[0])]\n",
        "\n",
        "\n",
        "print(\"without conversion: \")\n",
        "print(len(im_list))\n",
        "showOpencvImage(train_images[1])\n",
        "print(\"with conversion: \")\n",
        "print(len(im_list2))\n",
        "showOpencvImage(train_deskewed[1])"
      ],
      "execution_count": 24,
      "outputs": [
        {
          "output_type": "stream",
          "text": [
            "without conversion: \n",
            "70000\n"
          ],
          "name": "stdout"
        },
        {
          "output_type": "display_data",
          "data": {
            "image/png": "[encoded data removed]",
            "text/plain": [
              "<Figure size 432x432 with 1 Axes>"
            ]
          },
          "metadata": {
            "tags": []
          }
        },
        {
          "output_type": "stream",
          "text": [
            "with conversion: \n",
            "70000\n"
          ],
          "name": "stdout"
        },
        {
          "output_type": "display_data",
          "data": {
            "image/png": "[encoded data removed]",
            "text/plain": [
              "<Figure size 432x432 with 1 Axes>"
            ]
          },
          "metadata": {
            "tags": []
          }
        }
      ]
    },
    {
      "cell_type": "code",
      "metadata": {
        "id": "GSM_5H1L7n4R",
        "colab_type": "code",
        "colab": {}
      },
      "source": [
        "from keras import models\n",
        "from keras import layers\n",
        "\n",
        "#network for images without rotation conversion\n",
        "networkv1 = models.Sequential()\n",
        "networkv1.add(layers.Dense(512, activation='relu', input_shape=(28 * 28,)))\n",
        "networkv1.add(layers.Dense(10, activation='softmax'))\n",
        "\n",
        "networkv1.compile(optimizer='rmsprop',\n",
        "                loss='categorical_crossentropy',\n",
        "                metrics=['accuracy'])\n",
        "\n",
        "#network for images with roation conversion\n",
        "networkv2 = models.Sequential()\n",
        "networkv2.add(layers.Dense(512, activation='relu', input_shape=(28 * 28,)))\n",
        "networkv2.add(layers.Dense(10, activation='softmax'))\n",
        "\n",
        "networkv2.compile(optimizer='rmsprop',\n",
        "                loss='categorical_crossentropy',\n",
        "                metrics=['accuracy'])"
      ],
      "execution_count": 0,
      "outputs": []
    },
    {
      "cell_type": "code",
      "metadata": {
        "id": "SFj6LcR27vbh",
        "colab_type": "code",
        "colab": {}
      },
      "source": [
        "train_images = train_images.reshape((60000, 28 * 28))\n",
        "train_images = train_images.astype('float32') / 255\n",
        "\n",
        "test_images = test_images.reshape((10000, 28 * 28))\n",
        "test_images = test_images.astype('float32') / 255\n",
        "\n",
        "train_deskewed = train_deskewed.reshape((60000, 28 * 28))\n",
        "train_deskewed = train_deskewed.astype('float32') / 255\n",
        "\n",
        "test_deskewed = test_deskewed.reshape((10000, 28 * 28))\n",
        "test_deskewed = test_deskewed.astype('float32') / 255\n"
      ],
      "execution_count": 0,
      "outputs": []
    },
    {
      "cell_type": "code",
      "metadata": {
        "id": "UlRsPXtX7wtr",
        "colab_type": "code",
        "outputId": "032fe3b4-c99a-494b-f3eb-12dacb82488c",
        "colab": {
          "base_uri": "https://localhost:8080/",
          "height": 139
        }
      },
      "source": [
        "from keras.utils import to_categorical\n",
        "\n",
        "encoded_train_labels = to_categorical(train_labels)\n",
        "encoded_test_labels = to_categorical(test_labels)\n",
        "\n",
        "encoded_test_labels"
      ],
      "execution_count": 27,
      "outputs": [
        {
          "output_type": "execute_result",
          "data": {
            "text/plain": [
              "array([[0., 0., 0., ..., 1., 0., 0.],\n",
              "       [0., 0., 1., ..., 0., 0., 0.],\n",
              "       [0., 1., 0., ..., 0., 0., 0.],\n",
              "       ...,\n",
              "       [0., 0., 0., ..., 0., 0., 0.],\n",
              "       [0., 0., 0., ..., 0., 0., 0.],\n",
              "       [0., 0., 0., ..., 0., 0., 0.]], dtype=float32)"
            ]
          },
          "metadata": {
            "tags": []
          },
          "execution_count": 27
        }
      ]
    },
    {
      "cell_type": "code",
      "metadata": {
        "id": "P-9GR44w71Ln",
        "colab_type": "code",
        "outputId": "6e7eb516-9e86-4fb9-dcfb-5f1faa1c8296",
        "colab": {
          "base_uri": "https://localhost:8080/",
          "height": 382
        }
      },
      "source": [
        "#without rotation \n",
        "networkv1.fit(train_images, encoded_train_labels, epochs=5, batch_size=128)\n",
        "\n",
        "#with rotation\n",
        "networkv2.fit(train_deskewed, encoded_train_labels, epochs=5, batch_size=128)\n",
        "\n",
        "\n",
        "\n",
        "\n",
        "\n"
      ],
      "execution_count": 28,
      "outputs": [
        {
          "output_type": "stream",
          "text": [
            "Epoch 1/5\n",
            "60000/60000 [==============================] - 5s 86us/step - loss: 0.2596 - acc: 0.9246\n",
            "Epoch 2/5\n",
            "60000/60000 [==============================] - 5s 82us/step - loss: 0.1081 - acc: 0.9680\n",
            "Epoch 3/5\n",
            "60000/60000 [==============================] - 5s 84us/step - loss: 0.0726 - acc: 0.9785\n",
            "Epoch 4/5\n",
            "60000/60000 [==============================] - 5s 82us/step - loss: 0.0527 - acc: 0.9840\n",
            "Epoch 5/5\n",
            "60000/60000 [==============================] - 5s 82us/step - loss: 0.0409 - acc: 0.9881\n",
            "Epoch 1/5\n",
            "60000/60000 [==============================] - 5s 81us/step - loss: 0.2063 - acc: 0.9396\n",
            "Epoch 2/5\n",
            "60000/60000 [==============================] - 5s 80us/step - loss: 0.0877 - acc: 0.9735\n",
            "Epoch 3/5\n",
            "60000/60000 [==============================] - 5s 81us/step - loss: 0.0601 - acc: 0.9814\n",
            "Epoch 4/5\n",
            "60000/60000 [==============================] - 5s 80us/step - loss: 0.0456 - acc: 0.9860\n",
            "Epoch 5/5\n",
            "60000/60000 [==============================] - 5s 79us/step - loss: 0.0357 - acc: 0.9891\n"
          ],
          "name": "stdout"
        },
        {
          "output_type": "execute_result",
          "data": {
            "text/plain": [
              "<keras.callbacks.History at 0x7fa2c0fb73c8>"
            ]
          },
          "metadata": {
            "tags": []
          },
          "execution_count": 28
        }
      ]
    },
    {
      "cell_type": "code",
      "metadata": {
        "id": "mxDz97Fl9A4a",
        "colab_type": "code",
        "outputId": "afdf96cb-cd8d-4e15-c425-60844a11bfe6",
        "colab": {
          "base_uri": "https://localhost:8080/",
          "height": 835
        }
      },
      "source": [
        "#without rotation\n",
        "pred_probabilities1 = networkv1.predict(test_images)\n",
        "print(pred_probabilities1[0:1])\n",
        "\n",
        "pred_labels1 = np.argmax(pred_probabilities1,-1)\n",
        "print(pred_labels1[0])\n",
        "showOpencvImage(test_images[0].reshape(28,-1))\n",
        "\n",
        "#with rotation\n",
        "pred_probabilities2 = networkv2.predict(test_deskewed)\n",
        "print(pred_probabilities1[0:1])\n",
        "\n",
        "pred_labels2 = np.argmax(pred_probabilities2,-1)\n",
        "print(pred_labels2[0])\n",
        "showOpencvImage(test_deskewed[0].reshape(28,-1))"
      ],
      "execution_count": 29,
      "outputs": [
        {
          "output_type": "stream",
          "text": [
            "[[3.1567325e-08 2.7762002e-08 5.3908661e-06 5.4016896e-03 1.7061804e-12\n",
            "  1.3058956e-06 6.2224446e-15 9.9456704e-01 2.2066124e-06 2.2310624e-05]]\n",
            "7\n"
          ],
          "name": "stdout"
        },
        {
          "output_type": "display_data",
          "data": {
            "image/png": "[encoded data removed]",
            "text/plain": [
              "<Figure size 432x432 with 1 Axes>"
            ]
          },
          "metadata": {
            "tags": []
          }
        },
        {
          "output_type": "stream",
          "text": [
            "[[3.1567325e-08 2.7762002e-08 5.3908661e-06 5.4016896e-03 1.7061804e-12\n",
            "  1.3058956e-06 6.2224446e-15 9.9456704e-01 2.2066124e-06 2.2310624e-05]]\n",
            "7\n"
          ],
          "name": "stdout"
        },
        {
          "output_type": "display_data",
          "data": {
            "image/png": "[encoded data removed]",
            "text/plain": [
              "<Figure size 432x432 with 1 Axes>"
            ]
          },
          "metadata": {
            "tags": []
          }
        }
      ]
    },
    {
      "cell_type": "code",
      "metadata": {
        "id": "vuN4cnfK9ZD0",
        "colab_type": "code",
        "colab": {
          "base_uri": "https://localhost:8080/",
          "height": 990
        },
        "outputId": "9e4be7e5-8f33-42cb-f7e4-faed9b114c40"
      },
      "source": [
        "from sklearn.metrics import classification_report, confusion_matrix\n",
        "\n",
        "#without rotation\n",
        "print(\"without rotation conversion\")\n",
        "cm = confusion_matrix(test_labels, pred_labels1)\n",
        "print(cm)\n",
        "print(classification_report(test_labels, pred_labels1))\n",
        "\n",
        "#with rotation\n",
        "print(\"with rotation conversion\")\n",
        "cm = confusion_matrix(test_labels, pred_labels2)\n",
        "print(cm)\n",
        "print(classification_report(test_labels, pred_labels2))\n",
        "\n"
      ],
      "execution_count": 31,
      "outputs": [
        {
          "output_type": "stream",
          "text": [
            "without rotation conversion\n",
            "[[ 968    1    0    1    0    1    4    1    2    2]\n",
            " [   0 1128    1    1    0    0    2    0    3    0]\n",
            " [   5    4 1000    2    1    1    2    4   13    0]\n",
            " [   0    0    3  985    0   10    0    3    5    4]\n",
            " [   3    2    1    1  954    1    7    3    2    8]\n",
            " [   2    0    0    2    0  884    1    0    2    1]\n",
            " [   5    3    0    1    1    9  936    0    3    0]\n",
            " [   0   12    6    5    1    1    0  987    8    8]\n",
            " [   1    0    3    4    1    7    0    1  954    3]\n",
            " [   1    7    0    4    4    8    1    4    5  975]]\n",
            "              precision    recall  f1-score   support\n",
            "\n",
            "           0       0.98      0.99      0.99       980\n",
            "           1       0.97      0.99      0.98      1135\n",
            "           2       0.99      0.97      0.98      1032\n",
            "           3       0.98      0.98      0.98      1010\n",
            "           4       0.99      0.97      0.98       982\n",
            "           5       0.96      0.99      0.97       892\n",
            "           6       0.98      0.98      0.98       958\n",
            "           7       0.98      0.96      0.97      1028\n",
            "           8       0.96      0.98      0.97       974\n",
            "           9       0.97      0.97      0.97      1009\n",
            "\n",
            "    accuracy                           0.98     10000\n",
            "   macro avg       0.98      0.98      0.98     10000\n",
            "weighted avg       0.98      0.98      0.98     10000\n",
            "\n",
            "with rotation conversion\n",
            "[[ 971    0    1    0    0    1    4    1    1    1]\n",
            " [   0 1128    1    0    0    2    3    0    1    0]\n",
            " [   1    2 1012    3    1    1    1    1   10    0]\n",
            " [   1    0    1  997    0    2    0    2    5    2]\n",
            " [   0    0    2    1  963    0    3    0    0   13]\n",
            " [   2    0    0    8    1  874    3    0    2    2]\n",
            " [   2    2    0    1    2    2  947    0    2    0]\n",
            " [   2    4    6    0    0    0    0 1004    2   10]\n",
            " [   2    0    2    2    0    1    0    0  964    3]\n",
            " [   1    2    2    1    6    0    1    5    0  991]]\n",
            "              precision    recall  f1-score   support\n",
            "\n",
            "           0       0.99      0.99      0.99       980\n",
            "           1       0.99      0.99      0.99      1135\n",
            "           2       0.99      0.98      0.98      1032\n",
            "           3       0.98      0.99      0.99      1010\n",
            "           4       0.99      0.98      0.99       982\n",
            "           5       0.99      0.98      0.98       892\n",
            "           6       0.98      0.99      0.99       958\n",
            "           7       0.99      0.98      0.98      1028\n",
            "           8       0.98      0.99      0.98       974\n",
            "           9       0.97      0.98      0.98      1009\n",
            "\n",
            "    accuracy                           0.99     10000\n",
            "   macro avg       0.99      0.98      0.99     10000\n",
            "weighted avg       0.99      0.99      0.99     10000\n",
            "\n"
          ],
          "name": "stdout"
        }
      ]
    }
  ]
}